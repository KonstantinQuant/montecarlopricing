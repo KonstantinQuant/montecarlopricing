{
  "nbformat": 4,
  "nbformat_minor": 0,
  "metadata": {
    "colab": {
      "name": "Simulation-based-Pricing.ipynb",
      "provenance": [],
      "collapsed_sections": []
    },
    "kernelspec": {
      "name": "python3",
      "display_name": "Python 3"
    },
    "language_info": {
      "name": "python"
    }
  },
  "cells": [
    {
      "cell_type": "code",
      "source": [
        "import enum\n",
        "from abc import ABC, abstractmethod\n",
        "\n",
        "import numpy as np\n",
        "import scipy.stats as stats\n",
        "\n",
        "import pandas as pd\n",
        "\n",
        "import matplotlib.pyplot as plt\n",
        "import seaborn as sns"
      ],
      "metadata": {
        "id": "OEOZUE2FTv7o"
      },
      "execution_count": 1,
      "outputs": []
    },
    {
      "cell_type": "markdown",
      "source": [
        "# Question 1"
      ],
      "metadata": {
        "id": "QRPaw3koevQR"
      }
    },
    {
      "cell_type": "code",
      "source": [
        "class Market:\n",
        "  def __init__(self, r, sig):\n",
        "    self.r = r\n",
        "    self.sig = sig"
      ],
      "metadata": {
        "id": "4w0ztZ0x8Hr1"
      },
      "execution_count": 2,
      "outputs": []
    },
    {
      "cell_type": "code",
      "source": [
        "class Underlying:\n",
        "  def __init__(self, S, q, market):\n",
        "    self.S = S\n",
        "    self.q = q\n",
        "    self.market = market"
      ],
      "metadata": {
        "id": "V_A98gNw4uUb"
      },
      "execution_count": 3,
      "outputs": []
    },
    {
      "cell_type": "code",
      "execution_count": 4,
      "metadata": {
        "id": "51ERDHVxpd2Y"
      },
      "outputs": [],
      "source": [
        "class Derivative(ABC):\n",
        "\n",
        "  def __init__(self, underlying, K, T):\n",
        "      self.underlying = underlying\n",
        "      self.K = K\n",
        "      self.T = T\n",
        "\n",
        "  @abstractmethod\n",
        "  def get_exact_price(self):\n",
        "        pass\n",
        "\n",
        "  @abstractmethod\n",
        "  def get_mc_gbm_price(self):\n",
        "        pass  "
      ]
    },
    {
      "cell_type": "code",
      "source": [
        "class OptionType(enum.Enum):\n",
        "    CALL = 1\n",
        "    PUT = 2"
      ],
      "metadata": {
        "id": "fmkYe-R0TsU5"
      },
      "execution_count": 5,
      "outputs": []
    },
    {
      "cell_type": "code",
      "source": [
        "class ConfidenceInterval:\n",
        "  def __init__(self, lowerbound, upper):\n",
        "    self.lower = lowerbound\n",
        "    self.upper = upper\n",
        "   # self.sd = 1\n",
        "\n",
        "  def to_string(self):\n",
        "    return \"[\" + str(self.lower) + \", \" + str(self.upper) + \"]\""
      ],
      "metadata": {
        "id": "Ac4EghVYJ4JH"
      },
      "execution_count": 6,
      "outputs": []
    },
    {
      "cell_type": "code",
      "source": [
        "def compute_interval(value, N, std, level=.95,  dist=\"gauss\"):\n",
        "    if level == .95 and dist == \"gauss\":\n",
        "      lower = value - ((1.96*std)/np.sqrt(N))    \n",
        "      upper = value + ((1.96*std)/np.sqrt(N))    \n",
        "      return ConfidenceInterval(lower, upper)"
      ],
      "metadata": {
        "id": "XdJ-sglHRCIT"
      },
      "execution_count": 7,
      "outputs": []
    },
    {
      "cell_type": "code",
      "source": [
        "class EuropeanOption(Derivative):\n",
        "\n",
        "  def __init__(self, underlying, K, T, type):\n",
        "    super().__init__(underlying, K, T)\n",
        "    self.type = type\n",
        "    self.S = underlying.S\n",
        "    self.r = underlying.market.r\n",
        "    self.q = underlying.q\n",
        "    self.sig = underlying.market.sig\n",
        "\n",
        "\n",
        "  def get_exact_price(self):\n",
        "    d1 = (np.log(self.S/self.K)+((self.r-self.q)+0.5*self.sig**2)*self.T)/(self.sig*np.sqrt(self.T))\n",
        "    d2 = d1 - self.sig*np.sqrt(self.T)\n",
        "\n",
        "    price = 0\n",
        "\n",
        "    if self.type == OptionType.CALL:\n",
        "      price = self.S*np.exp(-self.q*self.T)*stats.norm.cdf(d1) - self.K*np.exp(-self.r*self.T)*stats.norm.cdf(d2)\n",
        "    else:\n",
        "      price = self.K*np.exp(-self.r*self.T)*stats.norm.cdf(-d2) - self.S*np.exp(-self.q*self.T)*stats.norm.cdf(-d1)\n",
        "    \n",
        "    return price\n",
        "\n",
        "\n",
        "  def get_mc_gbm_price(self, N, z):\n",
        "      ST = self.S*np.exp((self.r-self.q-0.5*self.sig**2)*self.T + self.sig*np.sqrt(self.T)*z)\n",
        "      \n",
        "      if self.type == OptionType.CALL:\n",
        "        disc_payoff = np.exp(-self.r*self.T)*np.maximum(ST-self.K, 0)\n",
        "        std = np.std(disc_payoff)\n",
        "        price = np.mean(disc_payoff)\n",
        "        return N, price, compute_interval(price, N, std).to_string()\n",
        "      else:\n",
        "        disc_payoff = np.exp(-self.r*self.T)*np.maximum(self.K-ST, 0)\n",
        "        std = np.std(disc_payoff)\n",
        "        price = np.mean(disc_payoff)\n",
        "        return N, price, compute_interval(price, N, std).to_string()\n",
        "\n",
        "\n",
        "  def compute_mc_gbm_price(self, N, antithetical_draw=False, handle_error=True):\n",
        "    z = np.random.normal(size=N)\n",
        "    if antithetical_draw:\n",
        "      if N % 2 != 0:\n",
        "        if handle_error:\n",
        "          N += 1\n",
        "        else:\n",
        "          raise ValueError('N has to be divisible by 2.')\n",
        "\n",
        "      z2 = -1 * z # we use the same samples instead of sampling again\n",
        "      v1 = self.get_mc_gbm_price(N, z)[1]\n",
        "      v2 = self.get_mc_gbm_price(N, z2)[1]\n",
        "      return .5 * (v1 + v2)\n",
        "    else: \n",
        "      return self.get_mc_gbm_price(N, z)\n",
        "\n",
        "\n",
        "  def get_delta(self):\n",
        "    if self.type == OptionType.CALL:\n",
        "      d1 = (np.log(self.S/self.K)+((self.r-self.q)+0.5*self.sig**2)*self.T)/(self.sig*np.sqrt(self.T))\n",
        "      return np.exp(-self.q*self.T)*stats.norm.cdf(d1)\n",
        "    else:\n",
        "      d1 = (np.log(self.S/self.K)+((self.r-self.q)+0.5*self.sig**2)*self.T)/(self.sig*np.sqrt(self.T))\n",
        "      return np.exp(-self.q*self.T)*(stats.norm.cdf(d1)-1)\n",
        "\n",
        "  def set_S(self, S):\n",
        "    self.S = S"
      ],
      "metadata": {
        "id": "htfzbGtet9hT"
      },
      "execution_count": 8,
      "outputs": []
    },
    {
      "cell_type": "code",
      "source": [
        "class ForwardContract(Derivative):\n",
        "  def __init__(self, underlying, K, T):\n",
        "    super().__init__(underlying, K, T)\n",
        "    self.S = underlying.S\n",
        "    self.r = underlying.market.r\n",
        "    self.q = underlying.q\n",
        "    self.sig = underlying.market.sig\n",
        "\n",
        "  def get_exact_price(self, call, put):\n",
        "    #determining the exact price using put call parity\n",
        "    forward = call-put\n",
        "    return forward \n",
        "\n",
        "\n",
        "  def get_mc_gbm_price(self, N, z):\n",
        "    z = np.random.normal(size=N)\n",
        "    ST = self.S*np.exp((self.r-self.q-0.5*self.sig**2)*self.T + self.sig*np.sqrt(self.T)*z)\n",
        "\n",
        "    ST_K = ST - self.K\n",
        "    disc = ST_K * np.exp(-self.r*self.T)\n",
        "    std = np.std(disc)\n",
        "    price = np.mean(disc)\n",
        "\n",
        "    return N, price, compute_interval(price, N, std).to_string()\n",
        "\n",
        "\n",
        "  def compute_mc_gbm_price(self, N, antithetical_draw=False, handle_error=True):\n",
        "    z = np.random.normal(size=N)\n",
        "    if antithetical_draw:\n",
        "      if N % 2 != 0:\n",
        "        if handle_error:\n",
        "          N += 1\n",
        "        else:\n",
        "          raise ValueError('N has to be divisible by 2.')\n",
        "      z2 = -1 * z # we use the same samples instead of sampling again\n",
        "      v1 = self.get_mc_gbm_price(N, z)[1]\n",
        "      v2 = self.get_mc_gbm_price(N, z2)[1]\n",
        "      return .5 * (v1 + v2)\n",
        "    else: \n",
        "      return self.get_mc_gbm_price(N, z)"
      ],
      "metadata": {
        "id": "FuKMa-1Ow_V7"
      },
      "execution_count": 9,
      "outputs": []
    },
    {
      "cell_type": "code",
      "source": [
        "S = 180\n",
        "K = 160\n",
        "sig = .2\n",
        "r = .01\n",
        "q = .015\n",
        "T = 88/365 # or 89 if last day is added\n",
        "\n",
        "tol = .1\n",
        "\n",
        "m = 100_000"
      ],
      "metadata": {
        "id": "J_bjMKcUuKpY"
      },
      "execution_count": 10,
      "outputs": []
    },
    {
      "cell_type": "code",
      "source": [
        "market = Market(r, sig)"
      ],
      "metadata": {
        "id": "osMdkxAq9XXR"
      },
      "execution_count": 11,
      "outputs": []
    },
    {
      "cell_type": "code",
      "source": [
        "underlying_a = Underlying(S, q, market)"
      ],
      "metadata": {
        "id": "3K9-iqXDWdQv"
      },
      "execution_count": 12,
      "outputs": []
    },
    {
      "cell_type": "code",
      "source": [
        "call_a = EuropeanOption(underlying_a, K, T, OptionType.CALL)"
      ],
      "metadata": {
        "id": "1XCoC_a-KT4e"
      },
      "execution_count": 13,
      "outputs": []
    },
    {
      "cell_type": "code",
      "source": [
        "put_a = EuropeanOption(underlying_a, K, T, OptionType.PUT)"
      ],
      "metadata": {
        "id": "8Nug6awqKXrh"
      },
      "execution_count": 14,
      "outputs": []
    },
    {
      "cell_type": "code",
      "source": [
        "forward_a = ForwardContract(underlying_a, K , T)"
      ],
      "metadata": {
        "id": "ODz-KKiDIyer"
      },
      "execution_count": 15,
      "outputs": []
    },
    {
      "cell_type": "markdown",
      "source": [
        "## a)"
      ],
      "metadata": {
        "id": "iRWXuPPBe1wb"
      }
    },
    {
      "cell_type": "markdown",
      "source": [
        "### i)"
      ],
      "metadata": {
        "id": "GY7S2UKRe7Mn"
      }
    },
    {
      "cell_type": "code",
      "source": [
        "def estimate_N(m, tol, derivative):\n",
        "    # 95 % confidence interval\n",
        "    z = np.random.normal(size=m)\n",
        "    \n",
        "    ST = derivative.S*np.exp((derivative.r-derivative.q-0.5*derivative.sig**2)*derivative.T + derivative.sig*np.sqrt(derivative.T)*z)\n",
        "\n",
        "    f_zi = 0\n",
        "\n",
        "    if type(derivative) is EuropeanOption:\n",
        "      if derivative.type is OptionType.CALL:\n",
        "        f_zi = np.exp(-derivative.r*derivative.T)*np.maximum(ST-derivative.K, 0)\n",
        "      else:\n",
        "        f_zi = np.exp(-derivative.r*derivative.T)*np.maximum(derivative.K - ST, 0)\n",
        "    elif type(derivative) is ForwardContract:\n",
        "      ST_K = ST - derivative.K\n",
        "      f_zi = ST_K * np.exp(-derivative.r*derivative.T)\n",
        "    else:\n",
        "      mean = np.zeros((2))\n",
        "      rho = derivative.rho\n",
        "      cov = [[1, derivative.rho],\n",
        "            [derivative.rho, 1]]\n",
        "\n",
        "      corr_bm = np.random.multivariate_normal(mean, cov, size=m)\n",
        "\n",
        "      z1 = corr_bm[:, 0]\n",
        "      z2 = corr_bm[:, 1]\n",
        "\n",
        "      ST1 = derivative.S*np.exp((derivative.r-derivative.q-0.5*derivative.sig**2)*derivative.T + derivative.sig*np.sqrt(derivative.T)*z1)\n",
        "      ST2 = derivative.S2*np.exp((derivative.r2-derivative.q2-0.5*derivative.sig2**2)*derivative.T + derivative.sig2*np.sqrt(derivative.T)*z2)\n",
        "\n",
        "      disc_ST1 = np.exp(-derivative.r*derivative.T)*ST1\n",
        "      disc_ST2 = np.exp(-derivative.r2*derivative.T)*ST2\n",
        "\n",
        "      if derivative.type == OptionType.CALL:\n",
        "        f_zi = np.maximum(disc_ST1-disc_ST2-derivative.K, 0)\n",
        "      else:\n",
        "        f_zi = np.maximum(0, K - disc_ST1  + disc_ST2)\n",
        "\n",
        "    sm = np.std(f_zi)\n",
        "\n",
        "    return ((1.96 * sm) / tol)**2"
      ],
      "metadata": {
        "id": "muDP21zp0Zlb"
      },
      "execution_count": 16,
      "outputs": []
    },
    {
      "cell_type": "code",
      "source": [
        "estimate_N(m, tol, call_a)"
      ],
      "metadata": {
        "colab": {
          "base_uri": "https://localhost:8080/"
        },
        "id": "j_gb3tiX1xa0",
        "outputId": "ed4c1caa-6333-41d2-8ce2-df53e65922d3"
      },
      "execution_count": 17,
      "outputs": [
        {
          "output_type": "execute_result",
          "data": {
            "text/plain": [
              "100315.87459432008"
            ]
          },
          "metadata": {},
          "execution_count": 17
        }
      ]
    },
    {
      "cell_type": "code",
      "source": [
        "estimate_N(m, tol, put_a)"
      ],
      "metadata": {
        "colab": {
          "base_uri": "https://localhost:8080/"
        },
        "id": "K7ZM1HUkNz52",
        "outputId": "ae3caa5a-86fb-40be-fcbf-5422552bd703"
      },
      "execution_count": 18,
      "outputs": [
        {
          "output_type": "execute_result",
          "data": {
            "text/plain": [
              "4299.474439861093"
            ]
          },
          "metadata": {},
          "execution_count": 18
        }
      ]
    },
    {
      "cell_type": "code",
      "source": [
        "estimate_N(m, tol, forward_a)"
      ],
      "metadata": {
        "colab": {
          "base_uri": "https://localhost:8080/"
        },
        "id": "NL0LB0-oN4h3",
        "outputId": "af515841-7346-418e-93c4-c7610b4a4871"
      },
      "execution_count": 19,
      "outputs": [
        {
          "output_type": "execute_result",
          "data": {
            "text/plain": [
              "120118.20686712886"
            ]
          },
          "metadata": {},
          "execution_count": 19
        }
      ]
    },
    {
      "cell_type": "markdown",
      "source": [
        "### ii and ii)"
      ],
      "metadata": {
        "id": "N77Y1nyNfANW"
      }
    },
    {
      "cell_type": "code",
      "source": [
        "exact_price_call = EuropeanOption(underlying_a, K, T, OptionType.CALL).get_exact_price()\n",
        "print(exact_price_call)"
      ],
      "metadata": {
        "colab": {
          "base_uri": "https://localhost:8080/"
        },
        "id": "q75phGCSSwcu",
        "outputId": "95441b75-7bb2-420b-ce5f-be0b6a3ae480"
      },
      "execution_count": 20,
      "outputs": [
        {
          "output_type": "stream",
          "name": "stdout",
          "text": [
            "20.691818313854952\n"
          ]
        }
      ]
    },
    {
      "cell_type": "code",
      "source": [
        "call_a.get_delta()"
      ],
      "metadata": {
        "colab": {
          "base_uri": "https://localhost:8080/"
        },
        "id": "1xGxwsG_DhTB",
        "outputId": "5278a071-4c4a-454a-c440-d7db51804356"
      },
      "execution_count": 21,
      "outputs": [
        {
          "output_type": "execute_result",
          "data": {
            "text/plain": [
              "0.8885902097987676"
            ]
          },
          "metadata": {},
          "execution_count": 21
        }
      ]
    },
    {
      "cell_type": "code",
      "source": [
        "exact_price_put = EuropeanOption(underlying_a, K, T, OptionType.PUT).get_exact_price()\n",
        "print(exact_price_put)"
      ],
      "metadata": {
        "colab": {
          "base_uri": "https://localhost:8080/"
        },
        "id": "3bMXMeamemNg",
        "outputId": "66e22576-cce8-4c7a-d64e-9c66a1e00aa4"
      },
      "execution_count": 22,
      "outputs": [
        {
          "output_type": "stream",
          "name": "stdout",
          "text": [
            "0.9563127789310322\n"
          ]
        }
      ]
    },
    {
      "cell_type": "code",
      "source": [
        "put_a.get_delta()"
      ],
      "metadata": {
        "colab": {
          "base_uri": "https://localhost:8080/"
        },
        "id": "FBEUaNbKEu25",
        "outputId": "05de29c3-b201-4d24-db8a-589413dd13f5"
      },
      "execution_count": 23,
      "outputs": [
        {
          "output_type": "execute_result",
          "data": {
            "text/plain": [
              "-0.10779988328237437"
            ]
          },
          "metadata": {},
          "execution_count": 23
        }
      ]
    },
    {
      "cell_type": "code",
      "source": [
        "EuropeanOption(underlying_a, K, T, OptionType.CALL).compute_mc_gbm_price(int(estimate_N(m, tol, call_a)))"
      ],
      "metadata": {
        "colab": {
          "base_uri": "https://localhost:8080/"
        },
        "id": "tjVagJ6BbvQL",
        "outputId": "bcf9a76d-747c-4eca-a98c-f16e459c1fd6"
      },
      "execution_count": 24,
      "outputs": [
        {
          "output_type": "execute_result",
          "data": {
            "text/plain": [
              "(100398, 20.67111625373186, '[20.571283341083102, 20.770949166380618]')"
            ]
          },
          "metadata": {},
          "execution_count": 24
        }
      ]
    },
    {
      "cell_type": "code",
      "source": [
        "EuropeanOption(underlying_a, K, T, OptionType.PUT).compute_mc_gbm_price(int(estimate_N(m, tol, put_a)))"
      ],
      "metadata": {
        "colab": {
          "base_uri": "https://localhost:8080/"
        },
        "id": "CbPWuop1eiht",
        "outputId": "d14b4c5d-3528-400b-d781-2e0bfb760c64"
      },
      "execution_count": 25,
      "outputs": [
        {
          "output_type": "execute_result",
          "data": {
            "text/plain": [
              "(4273, 0.9575922987079162, '[0.8569092107162637, 1.0582753866995687]')"
            ]
          },
          "metadata": {},
          "execution_count": 25
        }
      ]
    },
    {
      "cell_type": "code",
      "source": [
        "f_simulated = forward_a.compute_mc_gbm_price(int(estimate_N(m, tol, call_a)))\n",
        "f_exact = forward_a.get_exact_price(exact_price_call, exact_price_put)\n",
        "print(f_simulated)\n",
        "print(f_exact)"
      ],
      "metadata": {
        "colab": {
          "base_uri": "https://localhost:8080/"
        },
        "id": "SBU3SZME_ABA",
        "outputId": "3492c1eb-df26-4b65-dd89-02ca7f8abaad"
      },
      "execution_count": 26,
      "outputs": [
        {
          "output_type": "stream",
          "name": "stdout",
          "text": [
            "(99185, 19.799044777238386, '[19.68917423895155, 19.90891531552522]')\n",
            "19.73550553492392\n"
          ]
        }
      ]
    },
    {
      "cell_type": "markdown",
      "source": [
        "## b)\n"
      ],
      "metadata": {
        "id": "SEzwBo81UZoj"
      }
    },
    {
      "cell_type": "code",
      "source": [
        "M = 1000\n",
        "outcomes1 = np.zeros((3, M))\n",
        "\n",
        "for i in range(M):\n",
        "  outcomes1[0][i] = call_a.compute_mc_gbm_price(int(estimate_N(m, tol, call_a)))[1]\n",
        "  outcomes1[1][i] = put_a.compute_mc_gbm_price(int(estimate_N(m, tol, put_a)))[1]\n",
        "  outcomes1[2][i] = forward_a.compute_mc_gbm_price(int(estimate_N(m, tol, forward_a)))[1]"
      ],
      "metadata": {
        "id": "8S0-792nTFs8"
      },
      "execution_count": 27,
      "outputs": []
    },
    {
      "cell_type": "code",
      "source": [
        "sns.histplot(outcomes1[0, :], bins=20, kde=True)\n",
        "plt.grid()\n",
        "plt.title(\"Simulated call\")\n",
        "plt.show()"
      ],
      "metadata": {
        "colab": {
          "base_uri": "https://localhost:8080/",
          "height": 281
        },
        "id": "53Dvc3hmVK7M",
        "outputId": "cb62a4cc-42dc-49b3-f7fc-688197f4031f"
      },
      "execution_count": 28,
      "outputs": [
        {
          "output_type": "display_data",
          "data": {
            "image/png": "[encoded data removed]",
            "text/plain": [
              "<Figure size 432x288 with 1 Axes>"
            ]
          },
          "metadata": {
            "needs_background": "light"
          }
        }
      ]
    },
    {
      "cell_type": "code",
      "source": [
        "sns.histplot(outcomes1[1, :], bins=20, kde=True)\n",
        "plt.grid()\n",
        "plt.title(\"Simulated Put\")\n",
        "plt.show()"
      ],
      "metadata": {
        "colab": {
          "base_uri": "https://localhost:8080/",
          "height": 281
        },
        "id": "aHbBj6WLG2ol",
        "outputId": "ca03075a-ba90-4bb2-cb0a-9e63e831bdda"
      },
      "execution_count": 29,
      "outputs": [
        {
          "output_type": "display_data",
          "data": {
            "image/png": "[encoded data removed]",
            "text/plain": [
              "<Figure size 432x288 with 1 Axes>"
            ]
          },
          "metadata": {
            "needs_background": "light"
          }
        }
      ]
    },
    {
      "cell_type": "code",
      "source": [
        "sns.histplot(outcomes1[2, :], bins=20, kde=True)\n",
        "plt.grid()\n",
        "plt.title(\"Simulated Forward\")\n",
        "plt.show()"
      ],
      "metadata": {
        "colab": {
          "base_uri": "https://localhost:8080/",
          "height": 281
        },
        "id": "7gD6-1T5PIPc",
        "outputId": "43c038b9-b8b4-4283-b4cf-3e49446f9e79"
      },
      "execution_count": 30,
      "outputs": [
        {
          "output_type": "display_data",
          "data": {
            "image/png": "[encoded data removed]",
            "text/plain": [
              "<Figure size 432x288 with 1 Axes>"
            ]
          },
          "metadata": {
            "needs_background": "light"
          }
        }
      ]
    },
    {
      "cell_type": "markdown",
      "source": [
        "## c)"
      ],
      "metadata": {
        "id": "BsdL5L4ufPD-"
      }
    },
    {
      "cell_type": "code",
      "source": [
        "outcomes2 = np.zeros((3, M))\n",
        "\n",
        "for i in range(M):\n",
        "  outcomes2[0][i] = call_a.compute_mc_gbm_price(int(estimate_N(m, tol, call_a)), True)\n",
        "  outcomes2[1][i] = put_a.compute_mc_gbm_price(int(estimate_N(m, tol, put_a)), True)\n",
        "  outcomes2[2][i] = forward_a.compute_mc_gbm_price(int(estimate_N(m, tol, forward_a)), True)"
      ],
      "metadata": {
        "id": "fAYn5ymoXLds"
      },
      "execution_count": 31,
      "outputs": []
    },
    {
      "cell_type": "code",
      "source": [
        "sns.histplot(outcomes2[0, :], bins=20, kde=True)\n",
        "plt.grid()\n",
        "plt.title(\"Simulated call (Antithetical)\")\n",
        "plt.show()"
      ],
      "metadata": {
        "colab": {
          "base_uri": "https://localhost:8080/",
          "height": 281
        },
        "id": "Bpg16NroveV9",
        "outputId": "489f133a-8bcf-46bc-d284-bd9cb3df0294"
      },
      "execution_count": 32,
      "outputs": [
        {
          "output_type": "display_data",
          "data": {
            "image/png": "[encoded data removed]",
            "text/plain": [
              "<Figure size 432x288 with 1 Axes>"
            ]
          },
          "metadata": {
            "needs_background": "light"
          }
        }
      ]
    },
    {
      "cell_type": "code",
      "source": [
        "sns.histplot(outcomes2[1, :], bins=20, kde=True)\n",
        "plt.grid()\n",
        "plt.title(\"Simulated Put (Antithetical)\")\n",
        "plt.show()"
      ],
      "metadata": {
        "colab": {
          "base_uri": "https://localhost:8080/",
          "height": 281
        },
        "id": "7I7IGDxHQyDi",
        "outputId": "7b5d6560-6a3a-4767-e6fc-99657617e138"
      },
      "execution_count": 33,
      "outputs": [
        {
          "output_type": "display_data",
          "data": {
            "image/png": "[encoded data removed]",
            "text/plain": [
              "<Figure size 432x288 with 1 Axes>"
            ]
          },
          "metadata": {
            "needs_background": "light"
          }
        }
      ]
    },
    {
      "cell_type": "code",
      "source": [
        "sns.histplot(outcomes2[2, :], bins=20, kde=True)\n",
        "plt.grid()\n",
        "plt.title(\"Simulated Forward (Antithetical)\")\n",
        "plt.show()"
      ],
      "metadata": {
        "colab": {
          "base_uri": "https://localhost:8080/",
          "height": 281
        },
        "id": "Jt_PbE0JQzuz",
        "outputId": "f75f0a73-b10e-4239-8374-2b42b2cec981"
      },
      "execution_count": 34,
      "outputs": [
        {
          "output_type": "display_data",
          "data": {
            "image/png": "[encoded data removed]",
            "text/plain": [
              "<Figure size 432x288 with 1 Axes>"
            ]
          },
          "metadata": {
            "needs_background": "light"
          }
        }
      ]
    },
    {
      "cell_type": "code",
      "source": [
        "#df = pd.DataFrame({\"Not Antithetical\": outcomes1[0, :],\n",
        "                 #\"Antithetical\" : outcomes2[0, :]})\n",
        "\n",
        "sns.set(color_codes=True)\n",
        "sns.set(style=\"white\", palette=\"muted\")\n",
        "#sns.histplot(data=df)\n",
        "sns.histplot(outcomes1[0, :], bins=20, kde=True)\n",
        "sns.histplot(outcomes2[0, :], bins=20, kde=True)\n",
        "plt.grid()\n",
        "plt.title(\"Simulated Call vs. Antithetical\")\n",
        "plt.show()"
      ],
      "metadata": {
        "colab": {
          "base_uri": "https://localhost:8080/",
          "height": 284
        },
        "id": "nqvj6hfTlUd4",
        "outputId": "907878b3-f08d-404c-b877-734835422fc3"
      },
      "execution_count": 35,
      "outputs": [
        {
          "output_type": "display_data",
          "data": {
            "image/png": "[encoded data removed]",
            "text/plain": [
              "<Figure size 432x288 with 1 Axes>"
            ]
          },
          "metadata": {}
        }
      ]
    },
    {
      "cell_type": "markdown",
      "source": [
        "In order to asses whether antithetical draws converge much faster we can gather the sample moments. (could use MLE)"
      ],
      "metadata": {
        "id": "TPTjyeusgiJz"
      }
    },
    {
      "cell_type": "code",
      "source": [
        "np.mean(outcomes1[0, :]), np.var(outcomes1[0, :]), np.mean(outcomes2[0, :]), np.var(outcomes2[0, :])"
      ],
      "metadata": {
        "colab": {
          "base_uri": "https://localhost:8080/"
        },
        "id": "XpYcV21ygxSY",
        "outputId": "bdf4dde9-de4c-40fa-f16b-d3c9a4aff3e5"
      },
      "execution_count": 36,
      "outputs": [
        {
          "output_type": "execute_result",
          "data": {
            "text/plain": [
              "(20.689959614786428,\n",
              " 0.0023816583289724773,\n",
              " 20.691467083247446,\n",
              " 0.00012318573421112828)"
            ]
          },
          "metadata": {},
          "execution_count": 36
        }
      ]
    },
    {
      "cell_type": "markdown",
      "source": [
        "We observe that we experience significantly less variance"
      ],
      "metadata": {
        "id": "O9TQ8GoghSMs"
      }
    },
    {
      "cell_type": "code",
      "source": [
        "sns.set(color_codes=True)\n",
        "sns.set(style=\"white\", palette=\"muted\")\n",
        "#sns.histplot(data=df)\n",
        "sns.histplot(outcomes1[1, :], bins=20, kde=True)\n",
        "sns.histplot(outcomes2[1, :], bins=20, kde=True)\n",
        "plt.grid()\n",
        "plt.title(\"Simulated Put vs. Antithetical\")\n",
        "plt.show()"
      ],
      "metadata": {
        "colab": {
          "base_uri": "https://localhost:8080/",
          "height": 284
        },
        "id": "Oqa5MCYeWGo8",
        "outputId": "8b12b429-da42-4ddc-8d12-d848bcea8f4a"
      },
      "execution_count": 37,
      "outputs": [
        {
          "output_type": "display_data",
          "data": {
            "image/png": "[encoded data removed]",
            "text/plain": [
              "<Figure size 432x288 with 1 Axes>"
            ]
          },
          "metadata": {}
        }
      ]
    },
    {
      "cell_type": "code",
      "source": [
        "sns.set(color_codes=True)\n",
        "sns.set(style=\"white\", palette=\"muted\")\n",
        "#sns.histplot(data=df)\n",
        "sns.histplot(outcomes1[2, :], bins=20, kde=True)\n",
        "sns.histplot(outcomes2[2, :], bins=20, kde=True)\n",
        "plt.grid()\n",
        "plt.title(\"Simulated forward vs. Antithetical\")\n",
        "plt.show()"
      ],
      "metadata": {
        "colab": {
          "base_uri": "https://localhost:8080/",
          "height": 284
        },
        "id": "UsQWI4BKWkwh",
        "outputId": "4c12aa16-9bec-4bf7-9a2d-db7d6e67949b"
      },
      "execution_count": 38,
      "outputs": [
        {
          "output_type": "display_data",
          "data": {
            "image/png": "[encoded data removed]",
            "text/plain": [
              "<Figure size 432x288 with 1 Axes>"
            ]
          },
          "metadata": {}
        }
      ]
    },
    {
      "cell_type": "markdown",
      "source": [
        "Overall, we can see, that the antithetical draw gives us much better values than\n",
        "the traditional methods, which was expected based on the proofs in the class."
      ],
      "metadata": {
        "id": "j2OsbDbWAK-j"
      }
    },
    {
      "cell_type": "markdown",
      "source": [
        "## d)"
      ],
      "metadata": {
        "id": "mT1tR0WXhdh6"
      }
    },
    {
      "cell_type": "code",
      "source": [
        "def shiftdelta(option_t1, option_t2, e, iid=True):\n",
        "  z1 = np.random.normal(size=m)\n",
        "  if iid:\n",
        "    z2 = np.random.normal(size=m)\n",
        "    return (option_t1.get_mc_gbm_price(m, z1)[1] - option_t2.get_mc_gbm_price(m, z2)[1]) / e\n",
        "  else:\n",
        "    return (option_t1.get_mc_gbm_price(m, z1)[1] - option_t2.get_mc_gbm_price(m, z1)[1]) / e"
      ],
      "metadata": {
        "id": "8wPssd_yygro"
      },
      "execution_count": 39,
      "outputs": []
    },
    {
      "cell_type": "code",
      "source": [
        "e = .01 * S\n",
        "underlying_b = Underlying(S + e, q, market)\n",
        "underlying_a = Underlying(S, q, market)\n",
        "option_t1 =  EuropeanOption(underlying_b, K, T, OptionType.CALL)\n",
        "option_t2 = EuropeanOption(underlying_a, K, T, OptionType.CALL)"
      ],
      "metadata": {
        "id": "00HJUgZgQ9OF"
      },
      "execution_count": 40,
      "outputs": []
    },
    {
      "cell_type": "markdown",
      "source": [
        "### i)"
      ],
      "metadata": {
        "id": "nIZY7e0Jb4Fn"
      }
    },
    {
      "cell_type": "code",
      "source": [
        "shiftdelta(option_t1, option_t2, e)"
      ],
      "metadata": {
        "id": "JZHltZpu2FM-",
        "colab": {
          "base_uri": "https://localhost:8080/"
        },
        "outputId": "56fec855-fec2-48cc-d131-5ac42cfd4a4e"
      },
      "execution_count": 41,
      "outputs": [
        {
          "output_type": "execute_result",
          "data": {
            "text/plain": [
              "0.8544444193246924"
            ]
          },
          "metadata": {},
          "execution_count": 41
        }
      ]
    },
    {
      "cell_type": "code",
      "source": [
        "option_t2.get_delta() # the true delta"
      ],
      "metadata": {
        "id": "BDrUESJRzbki",
        "colab": {
          "base_uri": "https://localhost:8080/"
        },
        "outputId": "33626321-5ef8-4dd6-c70b-b17727e88314"
      },
      "execution_count": 42,
      "outputs": [
        {
          "output_type": "execute_result",
          "data": {
            "text/plain": [
              "0.8885902097987676"
            ]
          },
          "metadata": {},
          "execution_count": 42
        }
      ]
    },
    {
      "cell_type": "code",
      "source": [
        "option_t1_put = EuropeanOption(underlying_b, K, T, OptionType.PUT)\n",
        "option_t2_put = EuropeanOption(underlying_a, K, T, OptionType.PUT)"
      ],
      "metadata": {
        "id": "C6otorLiBGYw"
      },
      "execution_count": 43,
      "outputs": []
    },
    {
      "cell_type": "code",
      "source": [
        "shiftdelta(option_t1_put, option_t2_put, e)"
      ],
      "metadata": {
        "colab": {
          "base_uri": "https://localhost:8080/"
        },
        "id": "A9FEtd-wBQsG",
        "outputId": "d12e21cb-ec97-4538-bccb-13865795a27c"
      },
      "execution_count": 44,
      "outputs": [
        {
          "output_type": "execute_result",
          "data": {
            "text/plain": [
              "-0.09856921678535338"
            ]
          },
          "metadata": {},
          "execution_count": 44
        }
      ]
    },
    {
      "cell_type": "markdown",
      "source": [
        "### ii)"
      ],
      "metadata": {
        "id": "awbx9M8cb7bO"
      }
    },
    {
      "cell_type": "code",
      "source": [
        "shiftdelta(option_t1, option_t2, e, False)"
      ],
      "metadata": {
        "id": "zeXTH2v30-Vq",
        "colab": {
          "base_uri": "https://localhost:8080/"
        },
        "outputId": "d9d539b5-5ef2-4795-a036-e3758b983680"
      },
      "execution_count": 45,
      "outputs": [
        {
          "output_type": "execute_result",
          "data": {
            "text/plain": [
              "0.8968948274703376"
            ]
          },
          "metadata": {},
          "execution_count": 45
        }
      ]
    },
    {
      "cell_type": "markdown",
      "source": [
        "As we can see the call is in the money which naturally corresponds to a higher delta. We have a true value of 0.891. The put on the other hand, is pretty deep out of the money implying a delta close to 0 (real value -.11). "
      ],
      "metadata": {
        "id": "Q07Sr7DPR6i0"
      }
    },
    {
      "cell_type": "code",
      "source": [
        "antithetical_delta_shift = list()\n",
        "delta_shift = list()\n",
        "\n",
        "underlying_unshifted = Underlying(S, q, market)\n",
        "e = 0\n",
        "for epsilon in np.linspace(0.001, 0.1, 100):\n",
        "  e = epsilon * S\n",
        "\n",
        "  underlying_shifted = Underlying(S + e, q, market)\n",
        "  option_shifted =  EuropeanOption(underlying_shifted, K, T, OptionType.CALL)\n",
        "  option_unshifted = EuropeanOption(underlying_unshifted, K, T, OptionType.CALL)\n",
        "\n",
        "  \n",
        "  #print(shiftdelta(option_shifted, option_unshifted, e), e)\n",
        "  delta_shift.append(shiftdelta(option_shifted, option_unshifted, e))\n",
        "  antithetical_delta_shift.append(shiftdelta(option_shifted, option_unshifted, e, False))\n",
        "\n",
        "\n",
        "#plt.plot()\n",
        "#print(\"Shifted by\", e, eps, \"yields\", shiftdelta(option_t1, option_t2, eps))"
      ],
      "metadata": {
        "id": "Pg881Ol2v8iy"
      },
      "execution_count": 46,
      "outputs": []
    },
    {
      "cell_type": "code",
      "source": [
        "sns.histplot(delta_shift, bins=20, kde=True)\n",
        "sns.histplot(antithetical_delta_shift, bins=20, color=\"yellow\", kde=True)\n",
        "plt.grid()\n",
        "plt.show()"
      ],
      "metadata": {
        "colab": {
          "base_uri": "https://localhost:8080/",
          "height": 268
        },
        "id": "XSADDGMtS0GI",
        "outputId": "510ce37d-9ded-447e-bb03-82322a93db37"
      },
      "execution_count": 47,
      "outputs": [
        {
          "output_type": "display_data",
          "data": {
            "image/png": "[encoded data removed]",
            "text/plain": [
              "<Figure size 432x288 with 1 Axes>"
            ]
          },
          "metadata": {}
        }
      ]
    },
    {
      "cell_type": "code",
      "source": [
        "print(\"i.i.d. mean and variance:\", np.mean(delta_shift), np.var(delta_shift))"
      ],
      "metadata": {
        "colab": {
          "base_uri": "https://localhost:8080/"
        },
        "id": "IrjJo3m1bG_N",
        "outputId": "4df16137-2e39-4900-9d99-36b9258aa118"
      },
      "execution_count": 48,
      "outputs": [
        {
          "output_type": "stream",
          "name": "stdout",
          "text": [
            "i.i.d. mean and variance: 0.9204735754576641 0.0016350513005174594\n"
          ]
        }
      ]
    },
    {
      "cell_type": "code",
      "source": [
        "print(\"same mean and variance:\", np.mean(antithetical_delta_shift), np.var(antithetical_delta_shift))"
      ],
      "metadata": {
        "colab": {
          "base_uri": "https://localhost:8080/"
        },
        "id": "jWYL1v07bSgu",
        "outputId": "8bd7a629-7bf7-4a40-fc4e-d595a2c74419"
      },
      "execution_count": 49,
      "outputs": [
        {
          "output_type": "stream",
          "name": "stdout",
          "text": [
            "same mean and variance: 0.9237912747370761 0.00029712620127918347\n"
          ]
        }
      ]
    },
    {
      "cell_type": "markdown",
      "source": [
        "### iii)"
      ],
      "metadata": {
        "id": "N6Nki0NXb2JI"
      }
    },
    {
      "cell_type": "markdown",
      "source": [
        "As we can see in the histogram above, using the second method (yellow in the above graphic), where the samples z1 and z2 are not i.i.d., but instead the same, we gut much better delta values, especially the variance is less than the i.i.d. method. We have some extreme outliers in by sampling i.i.d. This is because when we sample i.i.d. we first sample two different path outcomes and then take the difference, whereas if we use the same values we just take the difference, leaving everything but the shift unchanged."
      ],
      "metadata": {
        "id": "vl9Fc9PkZ5qf"
      }
    },
    {
      "cell_type": "markdown",
      "source": [
        "# Question 2"
      ],
      "metadata": {
        "id": "nodSKdCJ3IkT"
      }
    },
    {
      "cell_type": "code",
      "source": [
        "rho = 0.7\n",
        "dt = 0.01\n",
        "N = 100_000"
      ],
      "metadata": {
        "id": "MfPtwEfYqRnx"
      },
      "execution_count": 50,
      "outputs": []
    },
    {
      "cell_type": "code",
      "source": [
        "class SpreadOption(Derivative):\n",
        "  def __init__(self, underlying1, underlying2, K, T, rho, type):\n",
        "    super().__init__(underlying1, K, T)\n",
        "    self.type = type\n",
        "    self.underlying2 = underlying2\n",
        "\n",
        "    self.S = underlying1.S\n",
        "    self.r = underlying1.market.r\n",
        "    self.q = underlying1.q\n",
        "    self.sig = underlying1.market.sig\n",
        "\n",
        "    self.S2 = self.underlying2.S\n",
        "    self.r2 = self.underlying2.market.r\n",
        "    self.q2 = self.underlying2.q\n",
        "    self.sig2 = self.underlying2.market.sig\n",
        "    self.rho = rho\n",
        "\n",
        "  \n",
        "  def get_exact_price(self):\n",
        "    pass\n",
        "\n",
        "  def get_mc_gbm_price(self, tol):\n",
        "\n",
        "    N = int(estimate_N(m, tol, self))\n",
        "    \n",
        "    mean = np.zeros((2))\n",
        "    rho = self.rho\n",
        "    cov = [[1, self.rho],\n",
        "           [self.rho, 1]]\n",
        "\n",
        "    corr_bm = np.random.multivariate_normal(mean, cov, size=N)\n",
        "\n",
        "    z1 = corr_bm[:, 0]\n",
        "    z2 = corr_bm[:, 1]\n",
        "\n",
        "    ST1 = self.S*np.exp((self.r-self.q-0.5*self.sig**2)*self.T + self.sig*np.sqrt(self.T)*z1)\n",
        "    ST2 = self.S2*np.exp((self.r2-self.q2-0.5*self.sig2**2)*self.T + self.sig2*np.sqrt(self.T)*z2)\n",
        "\n",
        "    payoff = 0\n",
        "\n",
        "    if self.type == OptionType.CALL:\n",
        "      payoff = np.maximum(ST1 - ST2 - self.K, 0)\n",
        "    else:\n",
        "      payoff = np.maximum(0, self.K - ST1  + ST2)\n",
        "\n",
        "    disc_payoff = np.exp(-self.r*self.T)*payoff\n",
        "\n",
        "    price = np.mean(disc_payoff)\n",
        "\n",
        "    return price"
      ],
      "metadata": {
        "id": "64dZdTfyXL5I"
      },
      "execution_count": 51,
      "outputs": []
    },
    {
      "cell_type": "code",
      "source": [
        "class SpreadTrade:\n",
        "  def __init__(self, spread_option):\n",
        "    self.spread_option = spread_option\n",
        "    self.type = self.spread_option.type\n",
        "\n",
        "\n",
        "  def get_trade_price(self, tol):\n",
        "    return self.spread_option.get_mc_gbm_price(tol)"
      ],
      "metadata": {
        "id": "DTRhtT3r3KHi"
      },
      "execution_count": 52,
      "outputs": []
    },
    {
      "cell_type": "code",
      "source": [
        "S1 = 180 \n",
        "S2 = 160 \n",
        "q1 = .01 \n",
        "q2 = .015\n",
        "K = 20\n",
        "sig = 20 \n",
        "r = .02 \n",
        "rho = .7\n",
        "tol = 0.10 \n",
        "T = 180 / 365"
      ],
      "metadata": {
        "id": "xiq6JX3eWXXi"
      },
      "execution_count": 53,
      "outputs": []
    },
    {
      "cell_type": "code",
      "source": [
        "underlying_2_a = Underlying(S1, q1, market)\n",
        "underlying_2_b = Underlying(S2, q2, market)\n",
        "\n",
        "\n",
        "spread_call = SpreadOption(underlying_2_a, underlying_2_b, K, T, rho, OptionType.CALL)\n",
        "spread_trade_call = SpreadTrade(spread_call)\n",
        "\n",
        "spread_put = SpreadOption(underlying_2_a, underlying_2_b, K, T, rho, OptionType.PUT)\n",
        "spread_trade_put = SpreadTrade(spread_put)"
      ],
      "metadata": {
        "id": "mUMsg-ekW0v5"
      },
      "execution_count": 54,
      "outputs": []
    },
    {
      "cell_type": "code",
      "source": [
        "estimate_N(m, tol, spread_call)"
      ],
      "metadata": {
        "colab": {
          "base_uri": "https://localhost:8080/"
        },
        "id": "eOlhO44B9AoP",
        "outputId": "aa26258c-df8e-4fb2-b8cf-9e9c686939bb"
      },
      "execution_count": 55,
      "outputs": [
        {
          "output_type": "execute_result",
          "data": {
            "text/plain": [
              "49059.3253918432"
            ]
          },
          "metadata": {},
          "execution_count": 55
        }
      ]
    },
    {
      "cell_type": "code",
      "source": [
        "estimate_N(m, tol, spread_put)"
      ],
      "metadata": {
        "colab": {
          "base_uri": "https://localhost:8080/"
        },
        "id": "v4kZrI0X9BQO",
        "outputId": "d938c888-88b9-4b9b-8b80-2f95f18f202a"
      },
      "execution_count": 56,
      "outputs": [
        {
          "output_type": "execute_result",
          "data": {
            "text/plain": [
              "44065.022499518505"
            ]
          },
          "metadata": {},
          "execution_count": 56
        }
      ]
    },
    {
      "cell_type": "code",
      "source": [
        "spread_call_price = spread_trade_call.get_trade_price(tol)\n",
        "print(spread_call_price)"
      ],
      "metadata": {
        "id": "sNFugq7-WRx4",
        "colab": {
          "base_uri": "https://localhost:8080/"
        },
        "outputId": "cc30d3a5-5642-42fc-d19b-749c7dadecf5"
      },
      "execution_count": 57,
      "outputs": [
        {
          "output_type": "stream",
          "name": "stdout",
          "text": [
            "7.6697296698232815\n"
          ]
        }
      ]
    },
    {
      "cell_type": "code",
      "source": [
        "spread_put_price = spread_trade_put.get_trade_price(tol)\n",
        "print(spread_put_price)"
      ],
      "metadata": {
        "id": "xIE_osus3hnJ",
        "colab": {
          "base_uri": "https://localhost:8080/"
        },
        "outputId": "b49f2c86-00e2-4d4c-b3c6-4863fcfe319e"
      },
      "execution_count": 58,
      "outputs": [
        {
          "output_type": "stream",
          "name": "stdout",
          "text": [
            "7.27879333464814\n"
          ]
        }
      ]
    },
    {
      "cell_type": "markdown",
      "source": [
        "For Put-Call-Parity: C-P = F ⇔ C-P-F = 0\n",
        "\n"
      ],
      "metadata": {
        "id": "sh4Azv3Qekx4"
      }
    },
    {
      "cell_type": "code",
      "source": [
        "put_call_parity_sim = 0\n",
        "for i in range(1000):\n",
        "  spread_call_price = spread_trade_call.get_trade_price(tol)\n",
        "  spread_put_price = spread_trade_put.get_trade_price(tol)\n",
        "  forward_spread_price = S1*np.exp(-q1*T) - S2*np.exp(-q2*T) - K * np.exp(-r*T)\n",
        "  put_call_parity_sim += spread_call_price - spread_put_price - forward_spread_price\n",
        "\n",
        "print(put_call_parity_sim/M)"
      ],
      "metadata": {
        "colab": {
          "base_uri": "https://localhost:8080/"
        },
        "id": "bIe4cBSNBUje",
        "outputId": "c13c53b5-fc3b-4e31-9c9d-44dd9149a336"
      },
      "execution_count": 59,
      "outputs": [
        {
          "output_type": "stream",
          "name": "stdout",
          "text": [
            "-0.09882587010843814\n"
          ]
        }
      ]
    },
    {
      "cell_type": "markdown",
      "source": [
        "We have simulated the value of the put call parity 1000 times an got an average value of -0.09 which implies that the put-call-parity holds"
      ],
      "metadata": {
        "id": "Sq93B1eLpoUA"
      }
    },
    {
      "cell_type": "markdown",
      "source": [
        "#### Just for fun"
      ],
      "metadata": {
        "id": "A5vbaeHqBg6F"
      }
    },
    {
      "cell_type": "code",
      "source": [
        "def correlated_gbm(N, dt, rho):\n",
        "  \"\"\"\n",
        "  Built on the basis of: https://quant.stackexchange.com/questions/24472/two-correlated-brownian-motions\n",
        "  \"\"\"\n",
        "  W1 = np.zeros((N))\n",
        "  W2 = np.zeros((N))\n",
        "\n",
        "\n",
        "  for i in range(1, N):\n",
        "    dW1 = np.random.normal(0, np.sqrt(dt))\n",
        "    W1[i] = W1[i-1] + dW1\n",
        "    W2[i] = rho * W1[i] + np.sqrt(1 - rho**2) * np.random.normal(0, np.sqrt(dt))\n",
        "\n",
        "  return W1, W2"
      ],
      "metadata": {
        "id": "Wbcdxc7EQ_4u"
      },
      "execution_count": 60,
      "outputs": []
    },
    {
      "cell_type": "code",
      "source": [
        "plt.plot(correlated_gbm(1_000, dt,.7)[0])\n",
        "plt.plot(correlated_gbm(1_000, dt,.7)[1])"
      ],
      "metadata": {
        "id": "5AOA-jrTRs4N",
        "colab": {
          "base_uri": "https://localhost:8080/",
          "height": 285
        },
        "outputId": "0ebbbda9-a560-465c-bee7-c3320430bc8d"
      },
      "execution_count": 61,
      "outputs": [
        {
          "output_type": "execute_result",
          "data": {
            "text/plain": [
              "[<matplotlib.lines.Line2D at 0x7f58e5ed50d0>]"
            ]
          },
          "metadata": {},
          "execution_count": 61
        },
        {
          "output_type": "display_data",
          "data": {
            "image/png": "[encoded data removed]",
            "text/plain": [
              "<Figure size 432x288 with 1 Axes>"
            ]
          },
          "metadata": {}
        }
      ]
    }
  ]
}